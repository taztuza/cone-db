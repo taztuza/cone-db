{
 "cells": [
  {
   "cell_type": "code",
   "execution_count": 1,
   "metadata": {},
   "outputs": [],
   "source": [
    "import numpy as np \n",
    "import pandas as pd\n",
    "import matplotlib.pyplot as plt\n",
    "import os"
   ]
  },
  {
   "cell_type": "code",
   "execution_count": 5,
   "metadata": {},
   "outputs": [
    {
     "name": "stdout",
     "output_type": "stream",
     "text": [
      "Detected Encoding: ISO-8859-1\n"
     ]
    }
   ],
   "source": [
    "import chardet\n",
    "file_name= 'C:\\\\Users\\\\smk19\\\\Documents\\\\python\\\\tree_data\\\\24110037.CSV'\n",
    "# Detect encoding\n",
    "with open(file_name, 'rb') as f:\n",
    "    result = chardet.detect(f.read(10000))  # Read first 10,000 bytes\n",
    "    encoding = result['encoding']\n",
    "    print(\"Detected Encoding:\", encoding)"
   ]
  },
  {
   "cell_type": "code",
   "execution_count": 18,
   "metadata": {},
   "outputs": [
    {
     "name": "stdout",
     "output_type": "stream",
     "text": [
      "Text 'Sample description' found at:\n",
      "Row: 17, Column: General information\n",
      "Value to the right of 'Sample description': Douglass-Fir-Stem2-FCD2024Hamins_q50_H_R1\n"
     ]
    }
   ],
   "source": [
    "# read all csv from folder and make pandas df of each\n",
    "## path is current folder \n",
    "#read file in folder called 24110037.CSV\n",
    "df = pd.read_csv(file_name, encoding='ISO-8859-1')  # Replace 'latin1' with detected encoding\n",
    "#print(df.head())\n",
    "search_text = 'Sample description'\n",
    "location = (df == search_text).stack()  # Flatten the DataFrame to locate matches\n",
    "indices = location[location].index  # Extract matching indices\n",
    "\n",
    "if not indices.empty:\n",
    "    print(f\"Text '{search_text}' found at:\")\n",
    "    for index in indices:\n",
    "        print(f\"Row: {index[0]}, Column: {index[1]}\")\n",
    "else:\n",
    "    print(f\"Text '{search_text}' not found.\")\n",
    "    \n",
    "for row, col in indices:\n",
    "    # Get the column index of the match\n",
    "    col_idx = df.columns.get_loc(col)\n",
    "    \n",
    "    # Check if there's a column to the right\n",
    "    if col_idx + 1 < len(df.columns):\n",
    "        right_value = df.iloc[row, col_idx + 1]\n",
    "        print(f\"Value to the right of '{search_text}': {right_value}\")\n",
    "    else:\n",
    "        print(f\"No column to the right of '{search_text}' in row {row}.\")\n",
    "        \n",
    "material_id = right_value"
   ]
  },
  {
   "cell_type": "code",
   "execution_count": 19,
   "metadata": {},
   "outputs": [
    {
     "name": "stdout",
     "output_type": "stream",
     "text": [
      "Douglass-Fir-Stem2-FCD2024Hamins_q50_H_R1\n"
     ]
    }
   ],
   "source": [
    "print(material_id)"
   ]
  },
  {
   "cell_type": "code",
   "execution_count": null,
   "metadata": {},
   "outputs": [
    {
     "name": "stdout",
     "output_type": "stream",
     "text": [
      "[]\n"
     ]
    }
   ],
   "source": []
  },
  {
   "cell_type": "code",
   "execution_count": null,
   "metadata": {},
   "outputs": [],
   "source": []
  }
 ],
 "metadata": {
  "kernelspec": {
   "display_name": "base",
   "language": "python",
   "name": "python3"
  },
  "language_info": {
   "codemirror_mode": {
    "name": "ipython",
    "version": 3
   },
   "file_extension": ".py",
   "mimetype": "text/x-python",
   "name": "python",
   "nbconvert_exporter": "python",
   "pygments_lexer": "ipython3",
   "version": "3.12.7"
  }
 },
 "nbformat": 4,
 "nbformat_minor": 2
}
